{
 "cells": [
  {
   "cell_type": "markdown",
   "metadata": {},
   "source": [
    "# subject of this notebook:?\n",
    "# Authoried by: Dr.Aamar tufail\n",
    "# where to cantact: github profile link \"or\" email (email) google colab\n"
   ]
  },
  {
   "cell_type": "markdown",
   "metadata": {},
   "source": [
    "code ko seperate krna k lye ipynb k file banti hy "
   ]
  },
  {
   "cell_type": "markdown",
   "metadata": {},
   "source": [
    "* is cell ko input function k lye use krta hn"
   ]
  },
  {
   "cell_type": "code",
   "execution_count": 1,
   "metadata": {},
   "outputs": [],
   "source": [
    "#code 2\n",
    "name = input(\"what is your name?\")\n"
   ]
  },
  {
   "cell_type": "code",
   "execution_count": 2,
   "metadata": {},
   "outputs": [
    {
     "name": "stdout",
     "output_type": "stream",
     "text": [
      "hello \n"
     ]
    }
   ],
   "source": [
    "#code 3\n",
    "print(\"hello\", name)"
   ]
  }
 ],
 "metadata": {
  "kernelspec": {
   "display_name": "Python 3",
   "language": "python",
   "name": "python3"
  },
  "language_info": {
   "name": "python",
   "version": "3.12.4"
  }
 },
 "nbformat": 4,
 "nbformat_minor": 2
}
